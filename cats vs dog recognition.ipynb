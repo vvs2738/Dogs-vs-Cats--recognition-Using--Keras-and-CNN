{
 "cells": [
  {
   "cell_type": "markdown",
   "metadata": {},
   "source": [
    "#### Importing Libraries"
   ]
  },
  {
   "cell_type": "code",
   "execution_count": 33,
   "metadata": {},
   "outputs": [],
   "source": [
    "from keras.models import Sequential\n",
    "from keras.layers import Dense\n",
    "from keras.layers import Conv2D,MaxPool2D,Flatten\n",
    "\n",
    "import numpy as np\n",
    "from keras.preprocessing.image import ImageDataGenerator\n",
    "from keras.preprocessing import image"
   ]
  },
  {
   "cell_type": "markdown",
   "metadata": {},
   "source": [
    "###### Buliding CNN\n"
   ]
  },
  {
   "cell_type": "code",
   "execution_count": 34,
   "metadata": {},
   "outputs": [],
   "source": [
    "cl=Sequential() "
   ]
  },
  {
   "cell_type": "code",
   "execution_count": 35,
   "metadata": {},
   "outputs": [],
   "source": [
    "# convolution layer - 32 feature detectors of 3x3 shape plus a rectifier on top of our convolved feature map\n",
    "cl.add(Conv2D(32,(3,3),input_shape=(64,64,3),activation='relu'))"
   ]
  },
  {
   "cell_type": "code",
   "execution_count": 36,
   "metadata": {},
   "outputs": [],
   "source": [
    "# max pooling layer - of 2x2 shape\n",
    "cl.add(MaxPool2D(pool_size=(2,2)))"
   ]
  },
  {
   "cell_type": "code",
   "execution_count": 37,
   "metadata": {},
   "outputs": [],
   "source": [
    "#another convolution layer\n",
    "cl.add(Conv2D(32,(3,3),activation='relu'))"
   ]
  },
  {
   "cell_type": "code",
   "execution_count": 38,
   "metadata": {},
   "outputs": [],
   "source": [
    "#another max pooling layer\n",
    "cl.add(MaxPool2D(pool_size=(2,2)))"
   ]
  },
  {
   "cell_type": "code",
   "execution_count": 39,
   "metadata": {},
   "outputs": [],
   "source": [
    "#flattening layer\n",
    "cl.add(Flatten())"
   ]
  },
  {
   "cell_type": "code",
   "execution_count": 40,
   "metadata": {},
   "outputs": [],
   "source": [
    "#Fully Connected Layer\n",
    "cl.add(Dense(units=128,activation='relu'))"
   ]
  },
  {
   "cell_type": "code",
   "execution_count": 41,
   "metadata": {},
   "outputs": [],
   "source": [
    "#Output Layer\n",
    "cl.add(Dense(units=1,activation='sigmoid'))"
   ]
  },
  {
   "cell_type": "markdown",
   "metadata": {},
   "source": [
    "###### Compiling CNN"
   ]
  },
  {
   "cell_type": "code",
   "execution_count": 42,
   "metadata": {},
   "outputs": [],
   "source": [
    "cl.compile(optimizer='adam', loss='binary_crossentropy', metrics=['accuracy'])"
   ]
  },
  {
   "cell_type": "markdown",
   "metadata": {},
   "source": [
    "###### Image Augmentation"
   ]
  },
  {
   "cell_type": "code",
   "execution_count": 43,
   "metadata": {},
   "outputs": [],
   "source": [
    "trainaug=ImageDataGenerator(rescale=1./255,shear_range=0.2,zoom_range=0.3,horizontal_flip=True)"
   ]
  },
  {
   "cell_type": "code",
   "execution_count": 44,
   "metadata": {},
   "outputs": [],
   "source": [
    "testaug=ImageDataGenerator(rescale=1./255,shear_range=0.2,zoom_range=0.3,horizontal_flip=True)"
   ]
  },
  {
   "cell_type": "code",
   "execution_count": 45,
   "metadata": {},
   "outputs": [
    {
     "name": "stdout",
     "output_type": "stream",
     "text": [
      "Found 20000 images belonging to 2 classes.\n"
     ]
    }
   ],
   "source": [
    "trainingset=trainaug.flow_from_directory(directory=\"G:\\\\data science skillathon\\\\all data\\\\cats vs dogs\\\\train\", target_size=(64, 64),batch_size=32,class_mode='binary')"
   ]
  },
  {
   "cell_type": "code",
   "execution_count": 46,
   "metadata": {},
   "outputs": [
    {
     "name": "stdout",
     "output_type": "stream",
     "text": [
      "Found 5000 images belonging to 2 classes.\n"
     ]
    }
   ],
   "source": [
    "validationset=testaug.flow_from_directory(directory=\"G:\\\\data science skillathon\\\\all data\\\\cats vs dogs\\\\test\", target_size=(64, 64),batch_size=32,class_mode='binary')"
   ]
  },
  {
   "cell_type": "code",
   "execution_count": 26,
   "metadata": {},
   "outputs": [],
   "source": [
    "# by creating checkpoint\n",
    "\n",
    "from keras.callbacks import ModelCheckpoint\n",
    "\n",
    "filepath = \"G:/data science skillathon/all data/cats vs dogs/saved_model/weights-improvement-{epoch:02d}-{loss: .4f}.hdf5\"\n",
    "checkpoint = ModelCheckpoint(filepath, monitor='loss', verbose=1, save_best_only=True, mode='min')\n",
    "callbacks_list = [checkpoint]"
   ]
  },
  {
   "cell_type": "code",
   "execution_count": null,
   "metadata": {},
   "outputs": [
    {
     "name": "stdout",
     "output_type": "stream",
     "text": [
      "WARNING:tensorflow:From C:\\ProgramData\\Anaconda3\\lib\\site-packages\\tensorflow\\python\\ops\\math_ops.py:3066: to_int32 (from tensorflow.python.ops.math_ops) is deprecated and will be removed in a future version.\n",
      "Instructions for updating:\n",
      "Use tf.cast instead.\n",
      "Epoch 1/50\n",
      "10000/10000 [==============================] - 4358s 436ms/step - loss: 0.4435 - acc: 0.7873 - val_loss: 0.3916 - val_acc: 0.8196\n",
      "\n",
      "Epoch 00001: loss improved from inf to 0.44346, saving model to G:/data science skillathon/all data/cats vs dogs/saved_model/weights-improvement-01- 0.4435.hdf5\n",
      "Epoch 2/50\n",
      "10000/10000 [==============================] - 3485s 349ms/step - loss: 0.3284 - acc: 0.8542 - val_loss: 0.3819 - val_acc: 0.8362\n",
      "\n",
      "Epoch 00002: loss improved from 0.44346 to 0.32841, saving model to G:/data science skillathon/all data/cats vs dogs/saved_model/weights-improvement-02- 0.3284.hdf5\n",
      "Epoch 3/50\n",
      "10000/10000 [==============================] - 5427s 543ms/step - loss: 0.2693 - acc: 0.8843 - val_loss: 0.4085 - val_acc: 0.8330\n",
      "\n",
      "Epoch 00003: loss improved from 0.32841 to 0.26928, saving model to G:/data science skillathon/all data/cats vs dogs/saved_model/weights-improvement-03- 0.2693.hdf5\n",
      "Epoch 4/50\n",
      "10000/10000 [==============================] - 13151s 1s/step - loss: 0.2308 - acc: 0.9033 - val_loss: 0.4105 - val_acc: 0.8386\n",
      "\n",
      "Epoch 00004: loss improved from 0.26928 to 0.23077, saving model to G:/data science skillathon/all data/cats vs dogs/saved_model/weights-improvement-04- 0.2308.hdf5\n",
      "Epoch 5/50\n",
      " 6947/10000 [===================>..........] - ETA: 1:40:55 - loss: 0.2008 - acc: 0.9170"
     ]
    }
   ],
   "source": [
    "cl.fit_generator(trainingset,\n",
    "                         steps_per_epoch=10000,                         \n",
    "                         epochs=50,                                 \n",
    "                         validation_data=validationset,\n",
    "                         validation_steps=2500,                         \n",
    "                         callbacks=callbacks_list)                   "
   ]
  },
  {
   "cell_type": "code",
   "execution_count": null,
   "metadata": {},
   "outputs": [
    {
     "name": "stdout",
     "output_type": "stream",
     "text": [
      "Epoch 1/46\n",
      "10000/10000 [==============================] - 5357s 536ms/step - loss: 0.1676 - acc: 0.9323 - val_loss: 0.4845 - val_acc: 0.8384\n",
      "\n",
      "Epoch 00001: loss improved from inf to 0.16761, saving model to G:/data science skillathon/all data/cats vs dogs/saved_model/weights-improvement-01- 0.1676.hdf5\n",
      "Epoch 2/46\n",
      "10000/10000 [==============================] - 5860s 586ms/step - loss: 0.1433 - acc: 0.9431 - val_loss: 0.5047 - val_acc: 0.8346\n",
      "\n",
      "Epoch 00002: loss improved from 0.16761 to 0.14334, saving model to G:/data science skillathon/all data/cats vs dogs/saved_model/weights-improvement-02- 0.1433.hdf5\n",
      "Epoch 3/46\n",
      "10000/10000 [==============================] - 5016s 502ms/step - loss: 0.1263 - acc: 0.9508 - val_loss: 0.5182 - val_acc: 0.8309\n",
      "\n",
      "Epoch 00003: loss improved from 0.14334 to 0.12625, saving model to G:/data science skillathon/all data/cats vs dogs/saved_model/weights-improvement-03- 0.1263.hdf5\n",
      "Epoch 4/46\n",
      " 9268/10000 [==========================>...] - ETA: 5:56 - loss: 0.1131 - acc: 0.9559"
     ]
    }
   ],
   "source": [
    "from keras.models import load_model\n",
    "new_model = load_model('G:/data science skillathon/all data/cats vs dogs/saved_model/weights-improvement-05- 0.1960.hdf5')\n",
    "new_model.fit_generator(trainingset,\n",
    "                         steps_per_epoch=10000,                         \n",
    "                         epochs=46,                                 \n",
    "                         validation_data=validationset,\n",
    "                         validation_steps=2500,                         \n",
    "                         callbacks=callbacks_list)                   "
   ]
  },
  {
   "cell_type": "code",
   "execution_count": 27,
   "metadata": {},
   "outputs": [
    {
     "name": "stdout",
     "output_type": "stream",
     "text": [
      "Epoch 1/42\n",
      "10000/10000 [==============================] - 3350s 335ms/step - loss: 0.1124 - acc: 0.9568 - val_loss: 0.5651 - val_acc: 0.8363\n",
      "\n",
      "Epoch 00001: loss improved from inf to 0.11235, saving model to G:/data science skillathon/all data/cats vs dogs/saved_model/weights-improvement-01- 0.1124.hdf5\n",
      "Epoch 2/42\n",
      "10000/10000 [==============================] - 2833s 283ms/step - loss: 0.1019 - acc: 0.9608 - val_loss: 0.5892 - val_acc: 0.8344\n",
      "\n",
      "Epoch 00002: loss improved from 0.11235 to 0.10188, saving model to G:/data science skillathon/all data/cats vs dogs/saved_model/weights-improvement-02- 0.1019.hdf5\n",
      "Epoch 3/42\n",
      "10000/10000 [==============================] - 2852s 285ms/step - loss: 0.0918 - acc: 0.9653 - val_loss: 0.6075 - val_acc: 0.8398\n",
      "\n",
      "Epoch 00003: loss improved from 0.10188 to 0.09183, saving model to G:/data science skillathon/all data/cats vs dogs/saved_model/weights-improvement-03- 0.0918.hdf5\n",
      "Epoch 4/42\n",
      "10000/10000 [==============================] - 3393s 339ms/step - loss: 0.0844 - acc: 0.9680 - val_loss: 0.6305 - val_acc: 0.8351\n",
      "\n",
      "Epoch 00004: loss improved from 0.09183 to 0.08437, saving model to G:/data science skillathon/all data/cats vs dogs/saved_model/weights-improvement-04- 0.0844.hdf5\n",
      "Epoch 5/42\n",
      "10000/10000 [==============================] - 3082s 308ms/step - loss: 0.0778 - acc: 0.9706 - val_loss: 0.6563 - val_acc: 0.8337\n",
      "\n",
      "Epoch 00005: loss improved from 0.08437 to 0.07781, saving model to G:/data science skillathon/all data/cats vs dogs/saved_model/weights-improvement-05- 0.0778.hdf5\n",
      "Epoch 6/42\n",
      "10000/10000 [==============================] - 2865s 286ms/step - loss: 0.0721 - acc: 0.9730 - val_loss: 0.6980 - val_acc: 0.8332\n",
      "\n",
      "Epoch 00006: loss improved from 0.07781 to 0.07210, saving model to G:/data science skillathon/all data/cats vs dogs/saved_model/weights-improvement-06- 0.0721.hdf5\n",
      "Epoch 7/42\n",
      "10000/10000 [==============================] - 5074s 507ms/step - loss: 0.0680 - acc: 0.9748 - val_loss: 0.6705 - val_acc: 0.8325\n",
      "\n",
      "Epoch 00007: loss improved from 0.07210 to 0.06802, saving model to G:/data science skillathon/all data/cats vs dogs/saved_model/weights-improvement-07- 0.0680.hdf5\n",
      "Epoch 8/42\n",
      "10000/10000 [==============================] - 5625s 563ms/step - loss: 0.0641 - acc: 0.9764 - val_loss: 0.7230 - val_acc: 0.8361\n",
      "\n",
      "Epoch 00008: loss improved from 0.06802 to 0.06406, saving model to G:/data science skillathon/all data/cats vs dogs/saved_model/weights-improvement-08- 0.0641.hdf5\n",
      "Epoch 9/42\n",
      "10000/10000 [==============================] - 2970s 297ms/step - loss: 0.0617 - acc: 0.9773 - val_loss: 0.7136 - val_acc: 0.8341\n",
      "\n",
      "Epoch 00009: loss improved from 0.06406 to 0.06170, saving model to G:/data science skillathon/all data/cats vs dogs/saved_model/weights-improvement-09- 0.0617.hdf5\n",
      "Epoch 10/42\n",
      "10000/10000 [==============================] - 2940s 294ms/step - loss: 0.0583 - acc: 0.9787 - val_loss: 0.7514 - val_acc: 0.8343\n",
      "\n",
      "Epoch 00010: loss improved from 0.06170 to 0.05825, saving model to G:/data science skillathon/all data/cats vs dogs/saved_model/weights-improvement-10- 0.0583.hdf5\n",
      "Epoch 11/42\n",
      "10000/10000 [==============================] - 2945s 294ms/step - loss: 0.0550 - acc: 0.9799 - val_loss: 0.7729 - val_acc: 0.8358\n",
      "\n",
      "Epoch 00011: loss improved from 0.05825 to 0.05498, saving model to G:/data science skillathon/all data/cats vs dogs/saved_model/weights-improvement-11- 0.0550.hdf5\n",
      "Epoch 12/42\n",
      "10000/10000 [==============================] - 2932s 293ms/step - loss: 0.0519 - acc: 0.9810 - val_loss: 0.7832 - val_acc: 0.8339\n",
      "\n",
      "Epoch 00012: loss improved from 0.05498 to 0.05193, saving model to G:/data science skillathon/all data/cats vs dogs/saved_model/weights-improvement-12- 0.0519.hdf5\n",
      "Epoch 13/42\n",
      "10000/10000 [==============================] - 2913s 291ms/step - loss: 0.0502 - acc: 0.9820 - val_loss: 0.8104 - val_acc: 0.8273\n",
      "\n",
      "Epoch 00013: loss improved from 0.05193 to 0.05021, saving model to G:/data science skillathon/all data/cats vs dogs/saved_model/weights-improvement-13- 0.0502.hdf5\n",
      "Epoch 14/42\n",
      "10000/10000 [==============================] - 2922s 292ms/step - loss: 0.0487 - acc: 0.9824 - val_loss: 0.8065 - val_acc: 0.8331\n",
      "\n",
      "Epoch 00014: loss improved from 0.05021 to 0.04871, saving model to G:/data science skillathon/all data/cats vs dogs/saved_model/weights-improvement-14- 0.0487.hdf5\n",
      "Epoch 15/42\n",
      "10000/10000 [==============================] - 2908s 291ms/step - loss: 0.0465 - acc: 0.9828 - val_loss: 0.8393 - val_acc: 0.8299\n",
      "\n",
      "Epoch 00015: loss improved from 0.04871 to 0.04655, saving model to G:/data science skillathon/all data/cats vs dogs/saved_model/weights-improvement-15- 0.0465.hdf5\n",
      "Epoch 16/42\n",
      "10000/10000 [==============================] - 2926s 293ms/step - loss: 0.0456 - acc: 0.9834 - val_loss: 0.8004 - val_acc: 0.8387\n",
      "\n",
      "Epoch 00016: loss improved from 0.04655 to 0.04565, saving model to G:/data science skillathon/all data/cats vs dogs/saved_model/weights-improvement-16- 0.0456.hdf5\n",
      "Epoch 17/42\n",
      "10000/10000 [==============================] - 2922s 292ms/step - loss: 0.0428 - acc: 0.9844 - val_loss: 0.8119 - val_acc: 0.8383\n",
      "\n",
      "Epoch 00017: loss improved from 0.04565 to 0.04283, saving model to G:/data science skillathon/all data/cats vs dogs/saved_model/weights-improvement-17- 0.0428.hdf5\n",
      "Epoch 18/42\n",
      "10000/10000 [==============================] - 2931s 293ms/step - loss: 0.0421 - acc: 0.9849 - val_loss: 0.9571 - val_acc: 0.8295\n",
      "\n",
      "Epoch 00018: loss improved from 0.04283 to 0.04206, saving model to G:/data science skillathon/all data/cats vs dogs/saved_model/weights-improvement-18- 0.0421.hdf5\n",
      "Epoch 19/42\n",
      "10000/10000 [==============================] - 2892s 289ms/step - loss: 0.0412 - acc: 0.9853 - val_loss: 0.9018 - val_acc: 0.8349\n",
      "\n",
      "Epoch 00019: loss improved from 0.04206 to 0.04123, saving model to G:/data science skillathon/all data/cats vs dogs/saved_model/weights-improvement-19- 0.0412.hdf5\n",
      "Epoch 20/42\n",
      "10000/10000 [==============================] - 3058s 306ms/step - loss: 0.0399 - acc: 0.9856 - val_loss: 0.8678 - val_acc: 0.8363\n",
      "\n",
      "Epoch 00020: loss improved from 0.04123 to 0.03988, saving model to G:/data science skillathon/all data/cats vs dogs/saved_model/weights-improvement-20- 0.0399.hdf5\n",
      "Epoch 21/42\n",
      "10000/10000 [==============================] - 3083s 308ms/step - loss: 0.0396 - acc: 0.9859 - val_loss: 0.8739 - val_acc: 0.8341\n",
      "\n",
      "Epoch 00021: loss improved from 0.03988 to 0.03956, saving model to G:/data science skillathon/all data/cats vs dogs/saved_model/weights-improvement-21- 0.0396.hdf5\n",
      "Epoch 22/42\n",
      "10000/10000 [==============================] - 3813s 381ms/step - loss: 0.0375 - acc: 0.9865 - val_loss: 0.9343 - val_acc: 0.8296\n",
      "\n",
      "Epoch 00022: loss improved from 0.03956 to 0.03752, saving model to G:/data science skillathon/all data/cats vs dogs/saved_model/weights-improvement-22- 0.0375.hdf5\n",
      "Epoch 23/42\n",
      "10000/10000 [==============================] - 2887s 289ms/step - loss: 0.0374 - acc: 0.9868 - val_loss: 0.8987 - val_acc: 0.8324\n",
      "\n",
      "Epoch 00023: loss improved from 0.03752 to 0.03738, saving model to G:/data science skillathon/all data/cats vs dogs/saved_model/weights-improvement-23- 0.0374.hdf5\n",
      "Epoch 24/42\n",
      "10000/10000 [==============================] - 2870s 287ms/step - loss: 0.0367 - acc: 0.9871 - val_loss: 0.9257 - val_acc: 0.8345\n",
      "\n",
      "Epoch 00024: loss improved from 0.03738 to 0.03673, saving model to G:/data science skillathon/all data/cats vs dogs/saved_model/weights-improvement-24- 0.0367.hdf5\n",
      "Epoch 25/42\n",
      "10000/10000 [==============================] - 2871s 287ms/step - loss: 0.0353 - acc: 0.9875 - val_loss: 0.9135 - val_acc: 0.8312\n",
      "\n",
      "Epoch 00025: loss improved from 0.03673 to 0.03525, saving model to G:/data science skillathon/all data/cats vs dogs/saved_model/weights-improvement-25- 0.0353.hdf5\n",
      "Epoch 26/42\n",
      "10000/10000 [==============================] - 2862s 286ms/step - loss: 0.0349 - acc: 0.9875 - val_loss: 0.9843 - val_acc: 0.8324\n",
      "\n",
      "Epoch 00026: loss improved from 0.03525 to 0.03493, saving model to G:/data science skillathon/all data/cats vs dogs/saved_model/weights-improvement-26- 0.0349.hdf5\n",
      "Epoch 27/42\n",
      "10000/10000 [==============================] - 2871s 287ms/step - loss: 0.0338 - acc: 0.9881 - val_loss: 0.9453 - val_acc: 0.8366\n",
      "\n",
      "Epoch 00027: loss improved from 0.03493 to 0.03376, saving model to G:/data science skillathon/all data/cats vs dogs/saved_model/weights-improvement-27- 0.0338.hdf5\n",
      "Epoch 28/42\n"
     ]
    },
    {
     "name": "stdout",
     "output_type": "stream",
     "text": [
      "10000/10000 [==============================] - 2870s 287ms/step - loss: 0.0333 - acc: 0.9882 - val_loss: 0.9805 - val_acc: 0.8351\n",
      "\n",
      "Epoch 00028: loss improved from 0.03376 to 0.03333, saving model to G:/data science skillathon/all data/cats vs dogs/saved_model/weights-improvement-28- 0.0333.hdf5\n",
      "Epoch 29/42\n",
      "10000/10000 [==============================] - 2882s 288ms/step - loss: 0.0331 - acc: 0.9882 - val_loss: 0.9445 - val_acc: 0.8375\n",
      "\n",
      "Epoch 00029: loss improved from 0.03333 to 0.03311, saving model to G:/data science skillathon/all data/cats vs dogs/saved_model/weights-improvement-29- 0.0331.hdf5\n",
      "Epoch 30/42\n",
      " 3480/10000 [=========>....................] - ETA: 28:42 - loss: 0.0336 - acc: 0.9880"
     ]
    },
    {
     "ename": "KeyboardInterrupt",
     "evalue": "",
     "output_type": "error",
     "traceback": [
      "\u001b[1;31m---------------------------------------------------------------------------\u001b[0m",
      "\u001b[1;31mKeyboardInterrupt\u001b[0m                         Traceback (most recent call last)",
      "\u001b[1;32m<ipython-input-27-98a6efbdbe95>\u001b[0m in \u001b[0;36m<module>\u001b[1;34m()\u001b[0m\n\u001b[0;32m      6\u001b[0m                          \u001b[0mvalidation_data\u001b[0m\u001b[1;33m=\u001b[0m\u001b[0mvalidationset\u001b[0m\u001b[1;33m,\u001b[0m\u001b[1;33m\u001b[0m\u001b[0m\n\u001b[0;32m      7\u001b[0m                          \u001b[0mvalidation_steps\u001b[0m\u001b[1;33m=\u001b[0m\u001b[1;36m2500\u001b[0m\u001b[1;33m,\u001b[0m\u001b[1;33m\u001b[0m\u001b[0m\n\u001b[1;32m----> 8\u001b[1;33m                          callbacks=callbacks_list) \n\u001b[0m",
      "\u001b[1;32mC:\\ProgramData\\Anaconda3\\lib\\site-packages\\keras\\legacy\\interfaces.py\u001b[0m in \u001b[0;36mwrapper\u001b[1;34m(*args, **kwargs)\u001b[0m\n\u001b[0;32m     89\u001b[0m                 warnings.warn('Update your `' + object_name + '` call to the ' +\n\u001b[0;32m     90\u001b[0m                               'Keras 2 API: ' + signature, stacklevel=2)\n\u001b[1;32m---> 91\u001b[1;33m             \u001b[1;32mreturn\u001b[0m \u001b[0mfunc\u001b[0m\u001b[1;33m(\u001b[0m\u001b[1;33m*\u001b[0m\u001b[0margs\u001b[0m\u001b[1;33m,\u001b[0m \u001b[1;33m**\u001b[0m\u001b[0mkwargs\u001b[0m\u001b[1;33m)\u001b[0m\u001b[1;33m\u001b[0m\u001b[0m\n\u001b[0m\u001b[0;32m     92\u001b[0m         \u001b[0mwrapper\u001b[0m\u001b[1;33m.\u001b[0m\u001b[0m_original_function\u001b[0m \u001b[1;33m=\u001b[0m \u001b[0mfunc\u001b[0m\u001b[1;33m\u001b[0m\u001b[0m\n\u001b[0;32m     93\u001b[0m         \u001b[1;32mreturn\u001b[0m \u001b[0mwrapper\u001b[0m\u001b[1;33m\u001b[0m\u001b[0m\n",
      "\u001b[1;32mC:\\ProgramData\\Anaconda3\\lib\\site-packages\\keras\\engine\\training.py\u001b[0m in \u001b[0;36mfit_generator\u001b[1;34m(self, generator, steps_per_epoch, epochs, verbose, callbacks, validation_data, validation_steps, class_weight, max_queue_size, workers, use_multiprocessing, shuffle, initial_epoch)\u001b[0m\n\u001b[0;32m   1416\u001b[0m             \u001b[0muse_multiprocessing\u001b[0m\u001b[1;33m=\u001b[0m\u001b[0muse_multiprocessing\u001b[0m\u001b[1;33m,\u001b[0m\u001b[1;33m\u001b[0m\u001b[0m\n\u001b[0;32m   1417\u001b[0m             \u001b[0mshuffle\u001b[0m\u001b[1;33m=\u001b[0m\u001b[0mshuffle\u001b[0m\u001b[1;33m,\u001b[0m\u001b[1;33m\u001b[0m\u001b[0m\n\u001b[1;32m-> 1418\u001b[1;33m             initial_epoch=initial_epoch)\n\u001b[0m\u001b[0;32m   1419\u001b[0m \u001b[1;33m\u001b[0m\u001b[0m\n\u001b[0;32m   1420\u001b[0m     \u001b[1;33m@\u001b[0m\u001b[0minterfaces\u001b[0m\u001b[1;33m.\u001b[0m\u001b[0mlegacy_generator_methods_support\u001b[0m\u001b[1;33m\u001b[0m\u001b[0m\n",
      "\u001b[1;32mC:\\ProgramData\\Anaconda3\\lib\\site-packages\\keras\\engine\\training_generator.py\u001b[0m in \u001b[0;36mfit_generator\u001b[1;34m(model, generator, steps_per_epoch, epochs, verbose, callbacks, validation_data, validation_steps, class_weight, max_queue_size, workers, use_multiprocessing, shuffle, initial_epoch)\u001b[0m\n\u001b[0;32m    211\u001b[0m                 \u001b[0mbatch_logs\u001b[0m\u001b[1;33m[\u001b[0m\u001b[1;34m'batch'\u001b[0m\u001b[1;33m]\u001b[0m \u001b[1;33m=\u001b[0m \u001b[0mbatch_index\u001b[0m\u001b[1;33m\u001b[0m\u001b[0m\n\u001b[0;32m    212\u001b[0m                 \u001b[0mbatch_logs\u001b[0m\u001b[1;33m[\u001b[0m\u001b[1;34m'size'\u001b[0m\u001b[1;33m]\u001b[0m \u001b[1;33m=\u001b[0m \u001b[0mbatch_size\u001b[0m\u001b[1;33m\u001b[0m\u001b[0m\n\u001b[1;32m--> 213\u001b[1;33m                 \u001b[0mcallbacks\u001b[0m\u001b[1;33m.\u001b[0m\u001b[0mon_batch_begin\u001b[0m\u001b[1;33m(\u001b[0m\u001b[0mbatch_index\u001b[0m\u001b[1;33m,\u001b[0m \u001b[0mbatch_logs\u001b[0m\u001b[1;33m)\u001b[0m\u001b[1;33m\u001b[0m\u001b[0m\n\u001b[0m\u001b[0;32m    214\u001b[0m \u001b[1;33m\u001b[0m\u001b[0m\n\u001b[0;32m    215\u001b[0m                 outs = model.train_on_batch(x, y,\n",
      "\u001b[1;32mC:\\ProgramData\\Anaconda3\\lib\\site-packages\\keras\\callbacks.py\u001b[0m in \u001b[0;36mon_batch_begin\u001b[1;34m(self, batch, logs)\u001b[0m\n\u001b[0;32m     91\u001b[0m             \u001b[0mcallback\u001b[0m\u001b[1;33m.\u001b[0m\u001b[0mon_batch_begin\u001b[0m\u001b[1;33m(\u001b[0m\u001b[0mbatch\u001b[0m\u001b[1;33m,\u001b[0m \u001b[0mlogs\u001b[0m\u001b[1;33m)\u001b[0m\u001b[1;33m\u001b[0m\u001b[0m\n\u001b[0;32m     92\u001b[0m         \u001b[0mself\u001b[0m\u001b[1;33m.\u001b[0m\u001b[0m_delta_ts_batch_begin\u001b[0m\u001b[1;33m.\u001b[0m\u001b[0mappend\u001b[0m\u001b[1;33m(\u001b[0m\u001b[0mtime\u001b[0m\u001b[1;33m.\u001b[0m\u001b[0mtime\u001b[0m\u001b[1;33m(\u001b[0m\u001b[1;33m)\u001b[0m \u001b[1;33m-\u001b[0m \u001b[0mt_before_callbacks\u001b[0m\u001b[1;33m)\u001b[0m\u001b[1;33m\u001b[0m\u001b[0m\n\u001b[1;32m---> 93\u001b[1;33m         \u001b[0mdelta_t_median\u001b[0m \u001b[1;33m=\u001b[0m \u001b[0mnp\u001b[0m\u001b[1;33m.\u001b[0m\u001b[0mmedian\u001b[0m\u001b[1;33m(\u001b[0m\u001b[0mself\u001b[0m\u001b[1;33m.\u001b[0m\u001b[0m_delta_ts_batch_begin\u001b[0m\u001b[1;33m)\u001b[0m\u001b[1;33m\u001b[0m\u001b[0m\n\u001b[0m\u001b[0;32m     94\u001b[0m         if (self._delta_t_batch > 0. and\n\u001b[0;32m     95\u001b[0m            \u001b[0mdelta_t_median\u001b[0m \u001b[1;33m>\u001b[0m \u001b[1;36m0.95\u001b[0m \u001b[1;33m*\u001b[0m \u001b[0mself\u001b[0m\u001b[1;33m.\u001b[0m\u001b[0m_delta_t_batch\u001b[0m \u001b[1;32mand\u001b[0m\u001b[1;33m\u001b[0m\u001b[0m\n",
      "\u001b[1;32m<__array_function__ internals>\u001b[0m in \u001b[0;36mmedian\u001b[1;34m(*args, **kwargs)\u001b[0m\n",
      "\u001b[1;32mC:\\ProgramData\\Anaconda3\\lib\\site-packages\\numpy\\lib\\function_base.py\u001b[0m in \u001b[0;36mmedian\u001b[1;34m(a, axis, out, overwrite_input, keepdims)\u001b[0m\n\u001b[0;32m   3500\u001b[0m     \"\"\"\n\u001b[0;32m   3501\u001b[0m     r, k = _ureduce(a, func=_median, axis=axis, out=out,\n\u001b[1;32m-> 3502\u001b[1;33m                     overwrite_input=overwrite_input)\n\u001b[0m\u001b[0;32m   3503\u001b[0m     \u001b[1;32mif\u001b[0m \u001b[0mkeepdims\u001b[0m\u001b[1;33m:\u001b[0m\u001b[1;33m\u001b[0m\u001b[0m\n\u001b[0;32m   3504\u001b[0m         \u001b[1;32mreturn\u001b[0m \u001b[0mr\u001b[0m\u001b[1;33m.\u001b[0m\u001b[0mreshape\u001b[0m\u001b[1;33m(\u001b[0m\u001b[0mk\u001b[0m\u001b[1;33m)\u001b[0m\u001b[1;33m\u001b[0m\u001b[0m\n",
      "\u001b[1;32mC:\\ProgramData\\Anaconda3\\lib\\site-packages\\numpy\\lib\\function_base.py\u001b[0m in \u001b[0;36m_ureduce\u001b[1;34m(a, func, **kwargs)\u001b[0m\n\u001b[0;32m   3408\u001b[0m         \u001b[0mkeepdim\u001b[0m \u001b[1;33m=\u001b[0m \u001b[1;33m(\u001b[0m\u001b[1;36m1\u001b[0m\u001b[1;33m,\u001b[0m\u001b[1;33m)\u001b[0m \u001b[1;33m*\u001b[0m \u001b[0ma\u001b[0m\u001b[1;33m.\u001b[0m\u001b[0mndim\u001b[0m\u001b[1;33m\u001b[0m\u001b[0m\n\u001b[0;32m   3409\u001b[0m \u001b[1;33m\u001b[0m\u001b[0m\n\u001b[1;32m-> 3410\u001b[1;33m     \u001b[0mr\u001b[0m \u001b[1;33m=\u001b[0m \u001b[0mfunc\u001b[0m\u001b[1;33m(\u001b[0m\u001b[0ma\u001b[0m\u001b[1;33m,\u001b[0m \u001b[1;33m**\u001b[0m\u001b[0mkwargs\u001b[0m\u001b[1;33m)\u001b[0m\u001b[1;33m\u001b[0m\u001b[0m\n\u001b[0m\u001b[0;32m   3411\u001b[0m     \u001b[1;32mreturn\u001b[0m \u001b[0mr\u001b[0m\u001b[1;33m,\u001b[0m \u001b[0mkeepdim\u001b[0m\u001b[1;33m\u001b[0m\u001b[0m\n\u001b[0;32m   3412\u001b[0m \u001b[1;33m\u001b[0m\u001b[0m\n",
      "\u001b[1;32mC:\\ProgramData\\Anaconda3\\lib\\site-packages\\numpy\\lib\\function_base.py\u001b[0m in \u001b[0;36m_median\u001b[1;34m(a, axis, out, overwrite_input)\u001b[0m\n\u001b[0;32m   3533\u001b[0m             \u001b[0mpart\u001b[0m \u001b[1;33m=\u001b[0m \u001b[0ma\u001b[0m\u001b[1;33m\u001b[0m\u001b[0m\n\u001b[0;32m   3534\u001b[0m     \u001b[1;32melse\u001b[0m\u001b[1;33m:\u001b[0m\u001b[1;33m\u001b[0m\u001b[0m\n\u001b[1;32m-> 3535\u001b[1;33m         \u001b[0mpart\u001b[0m \u001b[1;33m=\u001b[0m \u001b[0mpartition\u001b[0m\u001b[1;33m(\u001b[0m\u001b[0ma\u001b[0m\u001b[1;33m,\u001b[0m \u001b[0mkth\u001b[0m\u001b[1;33m,\u001b[0m \u001b[0maxis\u001b[0m\u001b[1;33m=\u001b[0m\u001b[0maxis\u001b[0m\u001b[1;33m)\u001b[0m\u001b[1;33m\u001b[0m\u001b[0m\n\u001b[0m\u001b[0;32m   3536\u001b[0m \u001b[1;33m\u001b[0m\u001b[0m\n\u001b[0;32m   3537\u001b[0m     \u001b[1;32mif\u001b[0m \u001b[0mpart\u001b[0m\u001b[1;33m.\u001b[0m\u001b[0mshape\u001b[0m \u001b[1;33m==\u001b[0m \u001b[1;33m(\u001b[0m\u001b[1;33m)\u001b[0m\u001b[1;33m:\u001b[0m\u001b[1;33m\u001b[0m\u001b[0m\n",
      "\u001b[1;32m<__array_function__ internals>\u001b[0m in \u001b[0;36mpartition\u001b[1;34m(*args, **kwargs)\u001b[0m\n",
      "\u001b[1;32mC:\\ProgramData\\Anaconda3\\lib\\site-packages\\numpy\\core\\fromnumeric.py\u001b[0m in \u001b[0;36mpartition\u001b[1;34m(a, kth, axis, kind, order)\u001b[0m\n\u001b[0;32m    743\u001b[0m     \u001b[1;32melse\u001b[0m\u001b[1;33m:\u001b[0m\u001b[1;33m\u001b[0m\u001b[0m\n\u001b[0;32m    744\u001b[0m         \u001b[0ma\u001b[0m \u001b[1;33m=\u001b[0m \u001b[0masanyarray\u001b[0m\u001b[1;33m(\u001b[0m\u001b[0ma\u001b[0m\u001b[1;33m)\u001b[0m\u001b[1;33m.\u001b[0m\u001b[0mcopy\u001b[0m\u001b[1;33m(\u001b[0m\u001b[0morder\u001b[0m\u001b[1;33m=\u001b[0m\u001b[1;34m\"K\"\u001b[0m\u001b[1;33m)\u001b[0m\u001b[1;33m\u001b[0m\u001b[0m\n\u001b[1;32m--> 745\u001b[1;33m     \u001b[0ma\u001b[0m\u001b[1;33m.\u001b[0m\u001b[0mpartition\u001b[0m\u001b[1;33m(\u001b[0m\u001b[0mkth\u001b[0m\u001b[1;33m,\u001b[0m \u001b[0maxis\u001b[0m\u001b[1;33m=\u001b[0m\u001b[0maxis\u001b[0m\u001b[1;33m,\u001b[0m \u001b[0mkind\u001b[0m\u001b[1;33m=\u001b[0m\u001b[0mkind\u001b[0m\u001b[1;33m,\u001b[0m \u001b[0morder\u001b[0m\u001b[1;33m=\u001b[0m\u001b[0morder\u001b[0m\u001b[1;33m)\u001b[0m\u001b[1;33m\u001b[0m\u001b[0m\n\u001b[0m\u001b[0;32m    746\u001b[0m     \u001b[1;32mreturn\u001b[0m \u001b[0ma\u001b[0m\u001b[1;33m\u001b[0m\u001b[0m\n\u001b[0;32m    747\u001b[0m \u001b[1;33m\u001b[0m\u001b[0m\n",
      "\u001b[1;31mKeyboardInterrupt\u001b[0m: "
     ]
    }
   ],
   "source": [
    "from keras.models import load_model\n",
    "new_model1 = load_model('G:/data science skillathon/all data/cats vs dogs/saved_model/weights-improvement-03- 0.1263.hdf5')\n",
    "new_model1.fit_generator(trainingset,\n",
    "                         steps_per_epoch=10000,                         \n",
    "                         epochs=42,                                 \n",
    "                         validation_data=validationset,\n",
    "                         validation_steps=2500,                         \n",
    "                         callbacks=callbacks_list) "
   ]
  },
  {
   "cell_type": "markdown",
   "metadata": {},
   "source": [
    "##### Testing our CNN Model"
   ]
  },
  {
   "cell_type": "code",
   "execution_count": 60,
   "metadata": {},
   "outputs": [
    {
     "data": {
      "text/plain": [
       "{'cats': 0, 'dogs': 1}"
      ]
     },
     "execution_count": 60,
     "metadata": {},
     "output_type": "execute_result"
    }
   ],
   "source": [
    "# what do these 0s and 1s actually refer to?\n",
    "trainingset.class_indices"
   ]
  },
  {
   "cell_type": "code",
   "execution_count": 135,
   "metadata": {},
   "outputs": [],
   "source": [
    "def test_unseen(filename):\n",
    "    test_image =  image.load_img(filename, target_size = (64, 64))\n",
    "    # converting to a 3D array\n",
    "    test_image = image.img_to_array(test_image)\n",
    "    test_image = np.expand_dims(test_image, axis=0)\n",
    "    result = new_model1.predict(test_image)\n",
    "    \n",
    "    if result[0][0] == 1:\n",
    "        prediction = \"Dogs detected!\"\n",
    "    else:\n",
    "        prediction = \"Cats detected!\"\n",
    "        \n",
    "    return prediction"
   ]
  },
  {
   "cell_type": "code",
   "execution_count": 159,
   "metadata": {},
   "outputs": [
    {
     "data": {
      "text/plain": [
       "'Dogs detected!'"
      ]
     },
     "execution_count": 159,
     "metadata": {},
     "output_type": "execute_result"
    }
   ],
   "source": [
    "filename = \"G:\\\\data science skillathon\\\\all data\\\\cats vs dogs\\\\unseentestingset\\\\12499.jpg\"\n",
    "test_unseen(filename)\n"
   ]
  },
  {
   "cell_type": "code",
   "execution_count": 160,
   "metadata": {},
   "outputs": [
    {
     "data": {
      "image/jpeg": "[encoded data removed]",
      "text/plain": [
       "<IPython.core.display.Image object>"
      ]
     },
     "execution_count": 160,
     "metadata": {},
     "output_type": "execute_result"
    }
   ],
   "source": [
    "Image(filename='G:\\\\data science skillathon\\\\all data\\\\cats vs dogs\\\\unseentestingset\\\\12499.jpg')"
   ]
  },
  {
   "cell_type": "code",
   "execution_count": 163,
   "metadata": {},
   "outputs": [
    {
     "data": {
      "text/plain": [
       "'Cats detected!'"
      ]
     },
     "execution_count": 163,
     "metadata": {},
     "output_type": "execute_result"
    }
   ],
   "source": [
    "filename = \"G:\\\\data science skillathon\\\\all data\\\\cats vs dogs\\\\unseentestingset\\\\122.jpg\"\n",
    "test_unseen(filename)\n"
   ]
  },
  {
   "cell_type": "code",
   "execution_count": 164,
   "metadata": {},
   "outputs": [
    {
     "data": {
      "image/jpeg": "[encoded data removed]",
      "text/plain": [
       "<IPython.core.display.Image object>"
      ]
     },
     "execution_count": 164,
     "metadata": {},
     "output_type": "execute_result"
    }
   ],
   "source": [
    "Image(filename=\"G:\\\\data science skillathon\\\\all data\\\\cats vs dogs\\\\unseentestingset\\\\122.jpg\")"
   ]
  },
  {
   "cell_type": "code",
   "execution_count": null,
   "metadata": {},
   "outputs": [],
   "source": []
  }
 ],
 "metadata": {
  "kernelspec": {
   "display_name": "Python 3",
   "language": "python",
   "name": "python3"
  },
  "language_info": {
   "codemirror_mode": {
    "name": "ipython",
    "version": 3
   },
   "file_extension": ".py",
   "mimetype": "text/x-python",
   "name": "python",
   "nbconvert_exporter": "python",
   "pygments_lexer": "ipython3",
   "version": "3.6.5"
  }
 },
 "nbformat": 4,
 "nbformat_minor": 2
}
